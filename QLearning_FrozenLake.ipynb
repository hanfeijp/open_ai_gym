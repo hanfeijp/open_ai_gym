{
 "cells": [
  {
   "cell_type": "code",
   "execution_count": 1,
   "metadata": {
    "collapsed": true
   },
   "outputs": [],
   "source": [
    "import gym\n",
    "import numpy as np\n",
    "%matplotlib inline\n",
    "import matplotlib.pylab as plt"
   ]
  },
  {
   "cell_type": "code",
   "execution_count": 4,
   "metadata": {},
   "outputs": [
    {
     "name": "stdout",
     "output_type": "stream",
     "text": [
      "python 3.5.2\n",
      "\n",
      "numpy 1.13.1\n",
      "matplotlib 2.0.2\n",
      "gym 0.9.2\n"
     ]
    }
   ],
   "source": [
    "from pkg_resources import get_distribution\n",
    "import platform\n",
    "print(\"python\", platform.python_version())\n",
    "print(\"\")\n",
    "libs = [\"numpy\", \"matplotlib\", \"gym\"]\n",
    "for lib in libs:\n",
    "    version = get_distribution(lib).version\n",
    "    print(lib, version)"
   ]
  },
  {
   "cell_type": "code",
   "execution_count": 2,
   "metadata": {},
   "outputs": [
    {
     "name": "stderr",
     "output_type": "stream",
     "text": [
      "[2017-08-21 18:35:46,470] Making new env: FrozenLake-v0\n"
     ]
    },
    {
     "data": {
      "image/png": "[encoded data removed]",
      "text/plain": [
       "<matplotlib.figure.Figure at 0x10e2eb550>"
      ]
     },
     "metadata": {},
     "output_type": "display_data"
    }
   ],
   "source": [
    "env = gym.make(\"FrozenLake-v0\")\n",
    "n_obs = env.observation_space.n\n",
    "n_act = env.action_space.n\n",
    "q = np.zeros([n_obs, n_act])\n",
    "epoch_cnt = 20000\n",
    "max_steps = 200\n",
    "epsilon = 0.001\n",
    "gamma = 0.9\n",
    "alpha = 0.9\n",
    " \n",
    "rewards = np.zeros(epoch_cnt)\n",
    "for epoch in range(epoch_cnt):\n",
    "    pobs = env.reset()\n",
    "    done = False\n",
    "    for step in range(max_steps):\n",
    "        pact = np.argmax(q[pobs, :])\n",
    "        pact = np.random.choice(np.where(q[pobs, :] == q[pobs, pact])[0])\n",
    "        if np.random.rand() <= epsilon:\n",
    "            pact = env.action_space.sample()\n",
    "        obs, reward, done, _ = env.step(pact) # return observation, reward, done, info\n",
    "        if not done:\n",
    "            q[pobs, pact] += alpha * (reward - q[pobs, pact] + gamma * np.max(q[obs, :]))\n",
    "        else:\n",
    "            q[pobs, pact] += alpha * (reward - q[pobs, pact])\n",
    "        pobs = obs\n",
    "        rewards[epoch] = reward\n",
    "        if done:\n",
    "            break\n",
    "rates = np.average(rewards.reshape([epoch_cnt//1000, 1000]), axis = 1)\n",
    "plt.plot(rates)\n",
    "plt.show()"
   ]
  }
 ],
 "metadata": {
  "kernelspec": {
   "display_name": "Python 3",
   "language": "python",
   "name": "python3"
  },
  "language_info": {
   "codemirror_mode": {
    "name": "ipython",
    "version": 3
   },
   "file_extension": ".py",
   "mimetype": "text/x-python",
   "name": "python",
   "nbconvert_exporter": "python",
   "pygments_lexer": "ipython3",
   "version": "3.5.2"
  }
 },
 "nbformat": 4,
 "nbformat_minor": 2
}
